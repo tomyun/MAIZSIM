{
 "cells": [
  {
   "cell_type": "code",
   "execution_count": 2,
   "metadata": {
    "collapsed": false,
    "deletable": true,
    "editable": true
   },
   "outputs": [],
   "source": [
    "%matplotlib inline"
   ]
  },
  {
   "cell_type": "code",
   "execution_count": 3,
   "metadata": {
    "collapsed": false,
    "deletable": true,
    "editable": true
   },
   "outputs": [],
   "source": [
    "import numpy as np\n",
    "import matplotlib.pyplot as plt\n",
    "import pandas as pd\n",
    "import seaborn as sns"
   ]
  },
  {
   "cell_type": "code",
   "execution_count": 4,
   "metadata": {
    "collapsed": true,
    "deletable": true,
    "editable": true
   },
   "outputs": [],
   "source": [
    "import crop"
   ]
  },
  {
   "cell_type": "code",
   "execution_count": 5,
   "metadata": {
    "collapsed": true,
    "deletable": true,
    "editable": true
   },
   "outputs": [],
   "source": [
    "def fc(PFD, T_air, CO2, RH, wind, P_air, leaf_n_content, leaf_width, WP_leaf, ET_supply):\n",
    "    cg = crop.CGas_exchange('test', leaf_n_content)\n",
    "    cg.SetVal_psil(PFD, T_air, CO2, RH, wind, P_air, leaf_width, WP_leaf, ET_supply)\n",
    "    return cg"
   ]
  },
  {
   "cell_type": "code",
   "execution_count": 99,
   "metadata": {
    "collapsed": true,
    "deletable": true,
    "editable": true
   },
   "outputs": [],
   "source": [
    "#leaf_n_content = 10\n",
    "#leaf_n_content = 0.25263296562882886\n",
    "leaf_n_content = 0.10"
   ]
  },
  {
   "cell_type": "code",
   "execution_count": 100,
   "metadata": {
    "collapsed": true,
    "deletable": true,
    "editable": true
   },
   "outputs": [],
   "source": [
    "cg = crop.CGas_exchange('test', leaf_n_content)"
   ]
  },
  {
   "cell_type": "code",
   "execution_count": 7,
   "metadata": {
    "collapsed": true,
    "deletable": true,
    "editable": true
   },
   "outputs": [],
   "source": [
    "PFD = 1000\n",
    "T_air = 30\n",
    "CO2 = 380\n",
    "RH = 50\n",
    "wind = 1\n",
    "P_air = 100\n",
    "leafwidth = 5\n",
    "WP_leaf = -0.1\n",
    "ET_supply = 0"
   ]
  },
  {
   "cell_type": "code",
   "execution_count": 101,
   "metadata": {
    "collapsed": true
   },
   "outputs": [],
   "source": [
    "PFD = 610.70374202567325\n",
    "T_air = 26.965076446533203\n",
    "CO2 = 400\n",
    "RH = 76.875008272209897\n",
    "wind = 0.83333333333333337\n",
    "P_air = 100\n",
    "leafwidth = 5\n",
    "WP_leaf = -0.05000000074505806\n",
    "ET_supply = 0.59932198790500946 * 10 / 3600 / 18.01 / 0.27746641319459969"
   ]
  },
  {
   "cell_type": "code",
   "execution_count": 44,
   "metadata": {
    "collapsed": false
   },
   "outputs": [
    {
     "data": {
      "text/plain": [
       "0.0003331452133661672"
      ]
     },
     "execution_count": 44,
     "metadata": {},
     "output_type": "execute_result"
    }
   ],
   "source": [
    "0.59932198790500946 * 10 / 3600 / 18.01 / 0.27746641319459969"
   ]
  },
  {
   "cell_type": "code",
   "execution_count": 102,
   "metadata": {
    "collapsed": true,
    "deletable": true,
    "editable": true
   },
   "outputs": [],
   "source": [
    "cg.SetVal_psil(PFD, T_air, CO2, RH, wind, P_air, leafwidth, WP_leaf, ET_supply)"
   ]
  },
  {
   "cell_type": "code",
   "execution_count": 103,
   "metadata": {
    "collapsed": false,
    "deletable": true,
    "editable": true
   },
   "outputs": [
    {
     "data": {
      "text/plain": [
       "-2.7203742399100075"
      ]
     },
     "execution_count": 103,
     "metadata": {},
     "output_type": "execute_result"
    }
   ],
   "source": [
    "cg.A_net"
   ]
  },
  {
   "cell_type": "code",
   "execution_count": 104,
   "metadata": {
    "collapsed": false,
    "deletable": true,
    "editable": true
   },
   "outputs": [
    {
     "data": {
      "text/plain": [
       "0.04"
      ]
     },
     "execution_count": 104,
     "metadata": {},
     "output_type": "execute_result"
    }
   ],
   "source": [
    "cg.gs"
   ]
  },
  {
   "cell_type": "code",
   "execution_count": 10,
   "metadata": {
    "collapsed": true,
    "deletable": true,
    "editable": true
   },
   "outputs": [],
   "source": [
    "def co2(x):\n",
    "    cg.SetVal_psil(PFD, T_air, x, RH, wind, P_air, leafwidth, WP_leaf, ET_supply)\n",
    "    return cg.A_net\n",
    "\n",
    "def co2_gs(x):\n",
    "    cg.SetVal_psil(PFD, T_air, x, RH, wind, P_air, leafwidth, WP_leaf, ET_supply)\n",
    "    return cg.gs\n",
    "\n",
    "def temp(x):\n",
    "    cg.SetVal_psil(PFD, x, CO2, RH, wind, P_air, leafwidth, WP_leaf, ET_supply)\n",
    "    return cg.A_net\n",
    "\n",
    "def pfd(x):\n",
    "    cg.SetVal_psil(x, T_air, CO2, RH, wind, P_air, leafwidth, WP_leaf, ET_supply)\n",
    "    return cg.A_net"
   ]
  },
  {
   "cell_type": "code",
   "execution_count": 11,
   "metadata": {
    "collapsed": true,
    "deletable": true,
    "editable": true
   },
   "outputs": [],
   "source": [
    "X_CO2 = np.arange(0, 800, 10)\n",
    "X_temp = np.arange(-20, 50, 1)\n",
    "X_PFD = np.arange(0, 2000, 100)"
   ]
  },
  {
   "cell_type": "code",
   "execution_count": 12,
   "metadata": {
    "collapsed": false,
    "deletable": true,
    "editable": true
   },
   "outputs": [],
   "source": [
    "Y_CO2 = [co2(float(x)) for x in X_CO2]\n",
    "gs_CO2 = [co2_gs(float(x)) for x in X_CO2]\n",
    "Y_temp = [temp(float(x)) for x in X_temp]\n",
    "Y_PFD = [pfd(float(x)) for x in X_PFD]"
   ]
  },
  {
   "cell_type": "code",
   "execution_count": null,
   "metadata": {
    "collapsed": true,
    "deletable": true,
    "editable": true
   },
   "outputs": [],
   "source": []
  },
  {
   "cell_type": "code",
   "execution_count": 13,
   "metadata": {
    "collapsed": false,
    "deletable": true,
    "editable": true
   },
   "outputs": [
    {
     "data": {
      "text/plain": [
       "[<matplotlib.lines.Line2D at 0x10adddef0>]"
      ]
     },
     "execution_count": 13,
     "metadata": {},
     "output_type": "execute_result"
    },
    {
     "data": {
      "image/png": "[encoded data removed]",
      "text/plain": [
       "<matplotlib.figure.Figure at 0x10ad861d0>"
      ]
     },
     "metadata": {},
     "output_type": "display_data"
    }
   ],
   "source": [
    "plt.plot(X_CO2, Y_CO2)"
   ]
  },
  {
   "cell_type": "code",
   "execution_count": 14,
   "metadata": {
    "collapsed": false,
    "deletable": true,
    "editable": true
   },
   "outputs": [
    {
     "data": {
      "text/plain": [
       "[<matplotlib.lines.Line2D at 0x10b0388d0>]"
      ]
     },
     "execution_count": 14,
     "metadata": {},
     "output_type": "execute_result"
    },
    {
     "data": {
      "image/png": "[encoded data removed]",
      "text/plain": [
       "<matplotlib.figure.Figure at 0x10ae202b0>"
      ]
     },
     "metadata": {},
     "output_type": "display_data"
    }
   ],
   "source": [
    "plt.plot(X_CO2[20:], gs_CO2[20:])"
   ]
  },
  {
   "cell_type": "code",
   "execution_count": 15,
   "metadata": {
    "collapsed": false,
    "deletable": true,
    "editable": true
   },
   "outputs": [
    {
     "data": {
      "text/plain": [
       "[<matplotlib.lines.Line2D at 0x10b1e02e8>]"
      ]
     },
     "execution_count": 15,
     "metadata": {},
     "output_type": "execute_result"
    },
    {
     "data": {
      "image/png": "[encoded data removed]",
      "text/plain": [
       "<matplotlib.figure.Figure at 0x10b014198>"
      ]
     },
     "metadata": {},
     "output_type": "display_data"
    }
   ],
   "source": [
    "plt.plot(X_temp, Y_temp)"
   ]
  },
  {
   "cell_type": "code",
   "execution_count": 16,
   "metadata": {
    "collapsed": false,
    "deletable": true,
    "editable": true
   },
   "outputs": [
    {
     "data": {
      "text/plain": [
       "[<matplotlib.lines.Line2D at 0x10b3869b0>]"
      ]
     },
     "execution_count": 16,
     "metadata": {},
     "output_type": "execute_result"
    },
    {
     "data": {
      "image/png": "[encoded data removed]",
      "text/plain": [
       "<matplotlib.figure.Figure at 0x10b1fe630>"
      ]
     },
     "metadata": {},
     "output_type": "display_data"
    }
   ],
   "source": [
    "plt.plot(X_PFD, Y_PFD)"
   ]
  },
  {
   "cell_type": "code",
   "execution_count": null,
   "metadata": {
    "collapsed": true,
    "deletable": true,
    "editable": true
   },
   "outputs": [],
   "source": []
  },
  {
   "cell_type": "code",
   "execution_count": null,
   "metadata": {
    "collapsed": true,
    "deletable": true,
    "editable": true
   },
   "outputs": [],
   "source": []
  },
  {
   "cell_type": "code",
   "execution_count": 54,
   "metadata": {
    "collapsed": false,
    "deletable": true,
    "editable": true
   },
   "outputs": [],
   "source": [
    "from maizsim.physiology import photosynthesis as ps\n",
    "from maizsim.atmosphere import Weather\n",
    "from maizsim.rhizosphere import Soil"
   ]
  },
  {
   "cell_type": "code",
   "execution_count": 68,
   "metadata": {
    "collapsed": false,
    "deletable": true,
    "editable": true
   },
   "outputs": [],
   "source": [
    "ge = ps.GasExchange('test')\n",
    "#leaf_n_content = 10\n",
    "leaf_n_content = 0.25263296562882886"
   ]
  },
  {
   "cell_type": "code",
   "execution_count": 56,
   "metadata": {
    "collapsed": false,
    "deletable": true,
    "editable": true
   },
   "outputs": [],
   "source": [
    "weather = Weather()\n",
    "soil = Soil()"
   ]
  },
  {
   "cell_type": "code",
   "execution_count": 20,
   "metadata": {
    "collapsed": true,
    "deletable": true,
    "editable": true
   },
   "outputs": [],
   "source": [
    "def w():\n",
    "    weather = Weather()\n",
    "    weather.PFD = 1000\n",
    "    weather.T_air = 30\n",
    "    weather.CO2 = 380\n",
    "    weather.RH = 50 / 100\n",
    "    weather.wind = 1\n",
    "    weather.P_air = 100\n",
    "    return weather\n",
    "weather = w()\n",
    "leafwidth = 5\n",
    "soil.WP_leaf = -0.1\n",
    "ET_supply = 0"
   ]
  },
  {
   "cell_type": "code",
   "execution_count": 69,
   "metadata": {
    "collapsed": true
   },
   "outputs": [],
   "source": [
    "def w():\n",
    "    weather = Weather()\n",
    "    weather.PFD = 610.70374202567325\n",
    "    weather.T_air = 26.965076446533203\n",
    "    weather.CO2 = 400\n",
    "    weather.RH = 76.875008272209897 / 100\n",
    "    weather.wind = 0.83333333333333337\n",
    "    weather.P_air = 100\n",
    "    return weather\n",
    "weather = w()\n",
    "leafwidth = 5\n",
    "soil.WP_leaf = -0.05000000074505806\n",
    "ET_supply = 0.59932198790500946 * 10 / 3600 / 18.01 / 0.27746641319459969"
   ]
  },
  {
   "cell_type": "code",
   "execution_count": 70,
   "metadata": {
    "collapsed": false,
    "deletable": true,
    "editable": true
   },
   "outputs": [
    {
     "name": "stdout",
     "output_type": "stream",
     "text": [
      "       gb = 1.9803114233204164, gs = 0.04\n",
      "A_net0 = 0.0\n",
      "       gb = 1.9803114233204164, gs = 0.04\n",
      "I2 = 220.61672680677444, Cm0 = 400.0, T_leaf = 26.965076446533203\n",
      "   Ac = -2.0006506078674535, Aj = -1.9754590642727932, A_net = -2.2093484390466913\n",
      "A_net0 = 1.4901161193847656e-08\n",
      "       gb = 1.9803114233204164, gs = 0.04000000011440515\n",
      "I2 = 220.61672680677444, Cm0 = 399.99999939364477, T_leaf = 26.965076446533203\n",
      "   Ac = -2.0006506078674535, Aj = -1.9754590642727932, A_net = -2.2093484390466913\n",
      "A_net0 = 0.0\n",
      "       gb = 1.9803114233204164, gs = 0.04\n",
      "I2 = 220.61672680677444, Cm0 = 400.0, T_leaf = 26.965076446533203\n",
      "   Ac = -2.0006506078674535, Aj = -1.9754590642727932, A_net = -2.2093484390466913\n",
      "A_net0 = -1.01\n",
      "       gb = 1.9803114233204164, gs = 0.04\n",
      "I2 = 220.61672680677444, Cm0 = 441.0987284846744, T_leaf = 26.965076446533203\n",
      "   Ac = -2.0006506078674535, Aj = -1.9754590642727932, A_net = -2.2093484390466913\n",
      "A_net0 = -1.01\n",
      "       gb = 1.9803114233204164, gs = 0.04\n",
      "I2 = 220.61672680677444, Cm0 = 441.0987284846744, T_leaf = 26.965076446533203\n",
      "   Ac = -2.0006506078674535, Aj = -1.9754590642727932, A_net = -2.2093484390466913\n",
      "A_net0 = -1.0099999850988388\n",
      "       gb = 1.9803114233204164, gs = 0.04\n",
      "I2 = 220.61672680677444, Cm0 = 441.09872787831915, T_leaf = 26.965076446533203\n",
      "   Ac = -2.0006506078674535, Aj = -1.9754590642727932, A_net = -2.2093484390466913\n",
      "A_net0 = -2.2093484256421894\n",
      "       gb = 1.9803114233204164, gs = 0.04\n",
      "I2 = 220.61672680677444, Cm0 = 489.90238720149614, T_leaf = 26.965076446533203\n",
      "   Ac = -2.0006506078674535, Aj = -1.9754590642727932, A_net = -2.2093484390466913\n",
      "A_net0 = -2.2093484256421894\n",
      "       gb = 1.9803114233204164, gs = 0.04\n",
      "I2 = 220.61672680677444, Cm0 = 489.90238720149614, T_leaf = 26.965076446533203\n",
      "   Ac = -2.0006506078674535, Aj = -1.9754590642727932, A_net = -2.2093484390466913\n",
      "A_net0 = -2.209348410741028\n",
      "       gb = 1.9803114233204164, gs = 0.04\n",
      "I2 = 220.61672680677444, Cm0 = 489.9023865951409, T_leaf = 26.965076446533203\n",
      "   Ac = -2.0006506078674535, Aj = -1.9754590642727932, A_net = -2.2093484390466913\n",
      "       gb = 1.9803114233204164, gs = 0.04\n",
      "       gb = 1.9803114233204164, gs = 0.04\n",
      "A_net0 = -2.2093484256421894\n",
      "       gb = 1.9803114233204164, gs = 0.04\n",
      "I2 = 220.61672680677444, Cm0 = 489.90238720149614, T_leaf = 26.965076461434364\n",
      "   Ac = -2.000650609382557, Aj = -1.975459065899534, A_net = -2.209348440788315\n",
      "A_net0 = -2.209348410741028\n",
      "       gb = 1.9803114233204164, gs = 0.04\n",
      "I2 = 220.61672680677444, Cm0 = 489.9023865951409, T_leaf = 26.965076461434364\n",
      "   Ac = -2.000650609382557, Aj = -1.975459065899534, A_net = -2.209348440788315\n",
      "A_net0 = -2.2093484256421894\n",
      "       gb = 1.9803114233204164, gs = 0.04\n",
      "I2 = 220.61672680677444, Cm0 = 489.90238720149614, T_leaf = 26.965076461434364\n",
      "   Ac = -2.000650609382557, Aj = -1.975459065899534, A_net = -2.209348440788315\n",
      "       gb = 1.9803114233204164, gs = 0.04\n",
      "       gb = 1.9803114233204164, gs = 0.04\n",
      "A_net0 = -2.2093484256421894\n",
      "       gb = 1.9803114233204164, gs = 0.04\n",
      "I2 = 220.61672680677444, Cm0 = 489.90238720149614, T_leaf = 26.965076446533203\n",
      "   Ac = -2.0006506078674535, Aj = -1.9754590642727932, A_net = -2.2093484390466913\n",
      "A_net0 = -2.209348410741028\n",
      "       gb = 1.9803114233204164, gs = 0.04\n",
      "I2 = 220.61672680677444, Cm0 = 489.9023865951409, T_leaf = 26.965076446533203\n",
      "   Ac = -2.0006506078674535, Aj = -1.9754590642727932, A_net = -2.2093484390466913\n",
      "A_net0 = -2.2093484256421894\n",
      "       gb = 1.9803114233204164, gs = 0.04\n",
      "I2 = 220.61672680677444, Cm0 = 489.90238720149614, T_leaf = 26.965076446533203\n",
      "   Ac = -2.0006506078674535, Aj = -1.9754590642727932, A_net = -2.2093484390466913\n",
      "       gb = 1.9803114233204164, gs = 0.04\n",
      "       gb = 1.9803114233204164, gs = 0.04\n",
      "A_net0 = -2.2093484256421894\n",
      "       gb = 1.9803114233204164, gs = 0.04\n",
      "I2 = 220.61672680677444, Cm0 = 489.90238720149614, T_leaf = 27.975076446533205\n",
      "   Ac = -2.1056016096118535, Aj = -2.0887109303127174, A_net = -2.330343613846436\n",
      "A_net0 = -2.209348410741028\n",
      "       gb = 1.9803114233204164, gs = 0.04\n",
      "I2 = 220.61672680677444, Cm0 = 489.9023865951409, T_leaf = 27.975076446533205\n",
      "   Ac = -2.1056016096118535, Aj = -2.0887109303127174, A_net = -2.330343613846436\n",
      "A_net0 = -2.2093484256421894\n",
      "       gb = 1.9803114233204164, gs = 0.04\n",
      "I2 = 220.61672680677444, Cm0 = 489.90238720149614, T_leaf = 27.975076446533205\n",
      "   Ac = -2.1056016096118535, Aj = -2.0887109303127174, A_net = -2.330343613846436\n",
      "A_net0 = -2.4513388169236228\n",
      "       gb = 1.9803114233204164, gs = 0.04\n",
      "I2 = 220.61672680677444, Cm0 = 499.7494143175117, T_leaf = 27.975076446533205\n",
      "   Ac = -2.1056016096118535, Aj = -2.0887109303127174, A_net = -2.330343613846436\n",
      "A_net0 = -2.4513388169236228\n",
      "       gb = 1.9803114233204164, gs = 0.04\n",
      "I2 = 220.61672680677444, Cm0 = 499.7494143175117, T_leaf = 27.975076446533205\n",
      "   Ac = -2.1056016096118535, Aj = -2.0887109303127174, A_net = -2.330343613846436\n",
      "A_net0 = -2.4513388020224616\n",
      "       gb = 1.9803114233204164, gs = 0.04\n",
      "I2 = 220.61672680677444, Cm0 = 499.74941371115654, T_leaf = 27.975076446533205\n",
      "   Ac = -2.1056016096118535, Aj = -2.0887109303127174, A_net = -2.330343613846436\n",
      "A_net0 = -2.330343610128201\n",
      "       gb = 1.9803114233204164, gs = 0.04\n",
      "I2 = 220.61672680677444, Cm0 = 494.8259003055988, T_leaf = 27.975076446533205\n",
      "   Ac = -2.1056016096118535, Aj = -2.0887109303127174, A_net = -2.330343613846436\n",
      "A_net0 = -2.330343610128201\n",
      "       gb = 1.9803114233204164, gs = 0.04\n",
      "I2 = 220.61672680677444, Cm0 = 494.8259003055988, T_leaf = 27.975076446533205\n",
      "   Ac = -2.1056016096118535, Aj = -2.0887109303127174, A_net = -2.330343613846436\n",
      "A_net0 = -2.3303435952270397\n",
      "       gb = 1.9803114233204164, gs = 0.04\n",
      "I2 = 220.61672680677444, Cm0 = 494.82589969924356, T_leaf = 27.975076446533205\n",
      "   Ac = -2.1056016096118535, Aj = -2.0887109303127174, A_net = -2.330343613846436\n",
      "       gb = 1.9803114233204164, gs = 0.04\n",
      "       gb = 1.9803114233204164, gs = 0.04\n",
      "A_net0 = -2.330343610128201\n",
      "       gb = 1.9803114233204164, gs = 0.04\n",
      "I2 = 220.61672680677444, Cm0 = 494.8259003055988, T_leaf = 27.975076446533205\n",
      "   Ac = -2.1056016096118535, Aj = -2.0887109303127174, A_net = -2.330343613846436\n",
      "A_net0 = -2.3303435952270397\n",
      "       gb = 1.9803114233204164, gs = 0.04\n",
      "I2 = 220.61672680677444, Cm0 = 494.82589969924356, T_leaf = 27.975076446533205\n",
      "   Ac = -2.1056016096118535, Aj = -2.0887109303127174, A_net = -2.330343613846436\n",
      "A_net0 = -2.330343610128201\n",
      "       gb = 1.9803114233204164, gs = 0.04\n",
      "I2 = 220.61672680677444, Cm0 = 494.8259003055988, T_leaf = 27.975076446533205\n",
      "   Ac = -2.1056016096118535, Aj = -2.0887109303127174, A_net = -2.330343613846436\n",
      "       gb = 1.9803114233204164, gs = 0.04\n",
      "       gb = 1.9803114233204164, gs = 0.04\n",
      "A_net0 = -2.330343610128201\n",
      "       gb = 1.9803114233204164, gs = 0.04\n",
      "I2 = 220.61672680677444, Cm0 = 494.8259003055988, T_leaf = 27.975076461434366\n",
      "   Ac = -2.105601611193944, Aj = -2.0887109320288086, A_net = -2.330343615675928\n",
      "A_net0 = -2.3303435952270397\n",
      "       gb = 1.9803114233204164, gs = 0.04\n",
      "I2 = 220.61672680677444, Cm0 = 494.82589969924356, T_leaf = 27.975076461434366\n",
      "   Ac = -2.105601611193944, Aj = -2.0887109320288086, A_net = -2.330343615675928\n",
      "A_net0 = -2.330343610128201\n",
      "       gb = 1.9803114233204164, gs = 0.04\n",
      "I2 = 220.61672680677444, Cm0 = 494.8259003055988, T_leaf = 27.975076461434366\n",
      "   Ac = -2.105601611193944, Aj = -2.0887109320288086, A_net = -2.330343615675928\n",
      "       gb = 1.9803114233204164, gs = 0.04\n",
      "       gb = 1.9803114233204164, gs = 0.04\n",
      "A_net0 = -2.330343610128201\n",
      "       gb = 1.9803114233204164, gs = 0.04\n",
      "I2 = 220.61672680677444, Cm0 = 494.8259003055988, T_leaf = 28.79993476352598\n",
      "   Ac = -2.1947328773217003, Aj = -2.1858445931262342, A_net = -2.433699231946603\n",
      "A_net0 = -2.3303435952270397\n",
      "       gb = 1.9803114233204164, gs = 0.04\n",
      "I2 = 220.61672680677444, Cm0 = 494.82589969924356, T_leaf = 28.79993476352598\n",
      "   Ac = -2.1947328773217003, Aj = -2.1858445931262342, A_net = -2.433699231946603\n",
      "A_net0 = -2.330343610128201\n",
      "       gb = 1.9803114233204164, gs = 0.04\n",
      "I2 = 220.61672680677444, Cm0 = 494.8259003055988, T_leaf = 28.79993476352598\n",
      "   Ac = -2.1947328773217003, Aj = -2.1858445931262342, A_net = -2.433699231946603\n",
      "A_net0 = -2.5370548686346033\n",
      "       gb = 1.9803114233204164, gs = 0.04\n",
      "I2 = 220.61672680677444, Cm0 = 503.23735564033143, T_leaf = 28.79993476352598\n",
      "   Ac = -2.1947328773217003, Aj = -2.1858445931262342, A_net = -2.433699231946603\n",
      "A_net0 = -2.5370548686346033\n",
      "       gb = 1.9803114233204164, gs = 0.04\n",
      "I2 = 220.61672680677444, Cm0 = 503.23735564033143, T_leaf = 28.79993476352598\n",
      "   Ac = -2.1947328773217003, Aj = -2.1858445931262342, A_net = -2.433699231946603\n",
      "A_net0 = -2.537054853733442\n",
      "       gb = 1.9803114233204164, gs = 0.04\n",
      "I2 = 220.61672680677444, Cm0 = 503.2373550339762, T_leaf = 28.79993476352598\n",
      "   Ac = -2.1947328773217003, Aj = -2.1858445931262342, A_net = -2.433699231946603\n",
      "A_net0 = -2.433699228214652\n",
      "       gb = 1.9803114233204164, gs = 0.04\n",
      "I2 = 220.61672680677444, Cm0 = 499.03162751856985, T_leaf = 28.79993476352598\n",
      "   Ac = -2.1947328773217003, Aj = -2.1858445931262342, A_net = -2.433699231946603\n",
      "A_net0 = -2.433699228214652\n",
      "       gb = 1.9803114233204164, gs = 0.04\n",
      "I2 = 220.61672680677444, Cm0 = 499.03162751856985, T_leaf = 28.79993476352598\n",
      "   Ac = -2.1947328773217003, Aj = -2.1858445931262342, A_net = -2.433699231946603\n",
      "A_net0 = -2.4336992133134907\n",
      "       gb = 1.9803114233204164, gs = 0.04\n",
      "I2 = 220.61672680677444, Cm0 = 499.0316269122146, T_leaf = 28.79993476352598\n",
      "   Ac = -2.1947328773217003, Aj = -2.1858445931262342, A_net = -2.433699231946603\n",
      "       gb = 1.9803114233204164, gs = 0.04\n",
      "       gb = 1.9803114233204164, gs = 0.04\n",
      "A_net0 = -2.433699228214652\n",
      "       gb = 1.9803114233204164, gs = 0.04\n",
      "I2 = 220.61672680677444, Cm0 = 499.03162751856985, T_leaf = 28.79993476352598\n",
      "   Ac = -2.1947328773217003, Aj = -2.1858445931262342, A_net = -2.433699231946603\n",
      "A_net0 = -2.4336992133134907\n",
      "       gb = 1.9803114233204164, gs = 0.04\n",
      "I2 = 220.61672680677444, Cm0 = 499.0316269122146, T_leaf = 28.79993476352598\n",
      "   Ac = -2.1947328773217003, Aj = -2.1858445931262342, A_net = -2.433699231946603\n",
      "A_net0 = -2.433699228214652\n",
      "       gb = 1.9803114233204164, gs = 0.04\n",
      "I2 = 220.61672680677444, Cm0 = 499.03162751856985, T_leaf = 28.79993476352598\n",
      "   Ac = -2.1947328773217003, Aj = -2.1858445931262342, A_net = -2.433699231946603\n",
      "       gb = 1.9803114233204164, gs = 0.04\n",
      "       gb = 1.9803114233204164, gs = 0.04\n",
      "A_net0 = -2.433699228214652\n",
      "       gb = 1.9803114233204164, gs = 0.04\n",
      "I2 = 220.61672680677444, Cm0 = 499.03162751856985, T_leaf = 28.79993477842714\n",
      "   Ac = -2.1947328789602008, Aj = -2.1858445949204284, A_net = -2.433699233852042\n",
      "A_net0 = -2.4336992133134907\n",
      "       gb = 1.9803114233204164, gs = 0.04\n",
      "I2 = 220.61672680677444, Cm0 = 499.0316269122146, T_leaf = 28.79993477842714\n",
      "   Ac = -2.1947328789602008, Aj = -2.1858445949204284, A_net = -2.433699233852042\n",
      "A_net0 = -2.433699228214652\n",
      "       gb = 1.9803114233204164, gs = 0.04\n",
      "I2 = 220.61672680677444, Cm0 = 499.03162751856985, T_leaf = 28.79993477842714\n",
      "   Ac = -2.1947328789602008, Aj = -2.1858445949204284, A_net = -2.433699233852042\n",
      "       gb = 1.9803114233204164, gs = 0.04\n",
      "       gb = 1.9803114233204164, gs = 0.04\n",
      "A_net0 = -2.433699228214652\n",
      "       gb = 1.9803114233204164, gs = 0.04\n",
      "I2 = 220.61672680677444, Cm0 = 499.03162751856985, T_leaf = 28.79993476352598\n",
      "   Ac = -2.1947328773217003, Aj = -2.1858445931262342, A_net = -2.433699231946603\n",
      "A_net0 = -2.4336992133134907\n",
      "       gb = 1.9803114233204164, gs = 0.04\n",
      "I2 = 220.61672680677444, Cm0 = 499.0316269122146, T_leaf = 28.79993476352598\n",
      "   Ac = -2.1947328773217003, Aj = -2.1858445931262342, A_net = -2.433699231946603\n",
      "A_net0 = -2.433699228214652\n",
      "       gb = 1.9803114233204164, gs = 0.04\n",
      "I2 = 220.61672680677444, Cm0 = 499.03162751856985, T_leaf = 28.79993476352598\n",
      "   Ac = -2.1947328773217003, Aj = -2.1858445931262342, A_net = -2.433699231946603\n",
      "       gb = 1.9803114233204164, gs = 0.04\n",
      "       gb = 1.9803114233204164, gs = 0.04\n"
     ]
    }
   ],
   "source": [
    "ge.setup(weather, soil, leaf_n_content, leafwidth, ET_supply)"
   ]
  },
  {
   "cell_type": "code",
   "execution_count": 71,
   "metadata": {
    "collapsed": false,
    "deletable": true,
    "editable": true
   },
   "outputs": [
    {
     "data": {
      "text/plain": [
       "0.04"
      ]
     },
     "execution_count": 71,
     "metadata": {},
     "output_type": "execute_result"
    }
   ],
   "source": [
    "ge.leaf.stomata.gs"
   ]
  },
  {
   "cell_type": "code",
   "execution_count": null,
   "metadata": {
    "collapsed": true,
    "deletable": true,
    "editable": true
   },
   "outputs": [],
   "source": []
  },
  {
   "cell_type": "code",
   "execution_count": null,
   "metadata": {
    "collapsed": true,
    "deletable": true,
    "editable": true
   },
   "outputs": [],
   "source": []
  },
  {
   "cell_type": "code",
   "execution_count": null,
   "metadata": {
    "collapsed": true,
    "deletable": true,
    "editable": true
   },
   "outputs": [],
   "source": []
  },
  {
   "cell_type": "code",
   "execution_count": null,
   "metadata": {
    "collapsed": false,
    "deletable": true,
    "editable": true
   },
   "outputs": [],
   "source": [
    "def ge_CO2(x):\n",
    "    weather = w()\n",
    "    weather.CO2 = x\n",
    "    ge.setup(weather, soil, leaf_n_content, leafwidth, ET_supply)\n",
    "    return ge.A_net\n",
    "\n",
    "def ge_CO2_gs(x):\n",
    "    weather = w()\n",
    "    weather.CO2 = x\n",
    "    ge.setup(weather, soil, leaf_n_content, leafwidth, ET_supply)\n",
    "    return ge.gs\n",
    "\n",
    "def ge_temp(x):\n",
    "    weather = w()\n",
    "    weather.T_air = x\n",
    "    ge.setup(weather, soil, leaf_n_content, leafwidth, ET_supply)\n",
    "    return ge.A_net\n",
    "\n",
    "def ge_PFD(x):\n",
    "    weather = w()\n",
    "    weather.PFD = x\n",
    "    ge.setup(weather, soil, leaf_n_content, leafwidth, ET_supply)\n",
    "    return ge.A_net"
   ]
  },
  {
   "cell_type": "code",
   "execution_count": null,
   "metadata": {
    "collapsed": false,
    "deletable": true,
    "editable": true
   },
   "outputs": [],
   "source": [
    "Y2_CO2 = [ge_CO2(x) for x in X_CO2]\n",
    "gs2_CO2 = [ge_CO2_gs(x) for x in X_CO2]\n",
    "Y2_temp = [ge_temp(x) for x in X_temp]\n",
    "Y2_PFD = [ge_PFD(x) for x in X_PFD]"
   ]
  },
  {
   "cell_type": "code",
   "execution_count": null,
   "metadata": {
    "collapsed": false,
    "deletable": true,
    "editable": true
   },
   "outputs": [],
   "source": [
    "plt.plot(X_CO2, Y2_CO2)"
   ]
  },
  {
   "cell_type": "code",
   "execution_count": null,
   "metadata": {
    "collapsed": true,
    "deletable": true,
    "editable": true
   },
   "outputs": [],
   "source": []
  },
  {
   "cell_type": "code",
   "execution_count": null,
   "metadata": {
    "collapsed": false,
    "deletable": true,
    "editable": true
   },
   "outputs": [],
   "source": [
    "gs_CO2[70:]"
   ]
  },
  {
   "cell_type": "code",
   "execution_count": null,
   "metadata": {
    "collapsed": false,
    "deletable": true,
    "editable": true
   },
   "outputs": [],
   "source": [
    "gs2_CO2[70:]"
   ]
  },
  {
   "cell_type": "code",
   "execution_count": null,
   "metadata": {
    "collapsed": true,
    "deletable": true,
    "editable": true
   },
   "outputs": [],
   "source": []
  },
  {
   "cell_type": "code",
   "execution_count": null,
   "metadata": {
    "collapsed": true,
    "deletable": true,
    "editable": true
   },
   "outputs": [],
   "source": []
  },
  {
   "cell_type": "code",
   "execution_count": null,
   "metadata": {
    "collapsed": false,
    "deletable": true,
    "editable": true
   },
   "outputs": [],
   "source": [
    "plt.plot(X_CO2[20:], gs2_CO2[20:])"
   ]
  },
  {
   "cell_type": "code",
   "execution_count": null,
   "metadata": {
    "collapsed": false,
    "deletable": true,
    "editable": true
   },
   "outputs": [],
   "source": [
    "plt.plot(X_temp, Y2_temp)"
   ]
  },
  {
   "cell_type": "code",
   "execution_count": null,
   "metadata": {
    "collapsed": false,
    "deletable": true,
    "editable": true
   },
   "outputs": [],
   "source": [
    "plt.plot(X_PFD, Y2_PFD)"
   ]
  },
  {
   "cell_type": "code",
   "execution_count": null,
   "metadata": {
    "collapsed": false,
    "deletable": true,
    "editable": true
   },
   "outputs": [],
   "source": []
  },
  {
   "cell_type": "code",
   "execution_count": null,
   "metadata": {
    "collapsed": true,
    "deletable": true,
    "editable": true
   },
   "outputs": [],
   "source": []
  }
 ],
 "metadata": {
  "kernelspec": {
   "display_name": "Python 3",
   "language": "python",
   "name": "python3"
  },
  "language_info": {
   "codemirror_mode": {
    "name": "ipython",
    "version": 3
   },
   "file_extension": ".py",
   "mimetype": "text/x-python",
   "name": "python",
   "nbconvert_exporter": "python",
   "pygments_lexer": "ipython3",
   "version": "3.6.0"
  }
 },
 "nbformat": 4,
 "nbformat_minor": 0
}
