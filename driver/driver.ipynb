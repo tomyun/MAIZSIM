{
 "cells": [
  {
   "cell_type": "code",
   "execution_count": 1,
   "metadata": {
    "collapsed": false,
    "deletable": true,
    "editable": true
   },
   "outputs": [],
   "source": [
    "import numpy as np"
   ]
  },
  {
   "cell_type": "code",
   "execution_count": 2,
   "metadata": {
    "collapsed": false,
    "deletable": true,
    "editable": true
   },
   "outputs": [],
   "source": [
    "import crop\n",
    "import soil"
   ]
  },
  {
   "cell_type": "markdown",
   "metadata": {
    "deletable": true,
    "editable": true
   },
   "source": [
    "### 2DMAIZSIM.for"
   ]
  },
  {
   "cell_type": "code",
   "execution_count": 3,
   "metadata": {
    "collapsed": false,
    "deletable": true,
    "editable": true
   },
   "outputs": [],
   "source": [
    "soil.datafilenames.runfile[:] = 'test.dat'"
   ]
  },
  {
   "cell_type": "code",
   "execution_count": 4,
   "metadata": {
    "collapsed": false,
    "deletable": true,
    "editable": true
   },
   "outputs": [],
   "source": [
    "soil.initialize()\n",
    "soil.get_grid_and_boundary()\n",
    "soil.synchronizer()"
   ]
  },
  {
   "cell_type": "code",
   "execution_count": 5,
   "metadata": {
    "collapsed": false,
    "deletable": true,
    "editable": true
   },
   "outputs": [],
   "source": [
    "if sum([bool(f) for f in [soil.time_public.hourlyweather, soil.time_public.dailyweather]]) != 1:\n",
    "    print \"error in weather file type\""
   ]
  },
  {
   "cell_type": "code",
   "execution_count": 6,
   "metadata": {
    "collapsed": false,
    "deletable": true,
    "editable": true
   },
   "outputs": [],
   "source": [
    "if soil.time_public.hourlyweather:\n",
    "    soil.setsurfaceh()\n",
    "if soil.time_public.dailyweather:\n",
    "    soil.setsurfaced()"
   ]
  },
  {
   "cell_type": "code",
   "execution_count": 7,
   "metadata": {
    "collapsed": false,
    "deletable": true,
    "editable": true
   },
   "outputs": [],
   "source": [
    "soil.settdb()\n",
    "soil.autoirrigate()\n",
    "soil.mngm()"
   ]
  },
  {
   "cell_type": "code",
   "execution_count": 8,
   "metadata": {
    "collapsed": false,
    "deletable": true,
    "editable": true
   },
   "outputs": [],
   "source": [
    "soil.datafilenames.starter = 1.0"
   ]
  },
  {
   "cell_type": "markdown",
   "metadata": {
    "deletable": true,
    "editable": true
   },
   "source": [
    "### Crop.cpp"
   ]
  },
  {
   "cell_type": "markdown",
   "metadata": {
    "deletable": true,
    "editable": true
   },
   "source": [
    "#### Common Blocks"
   ]
  },
  {
   "cell_type": "code",
   "execution_count": 9,
   "metadata": {
    "collapsed": false,
    "deletable": true,
    "editable": true
   },
   "outputs": [],
   "source": [
    "shootr = soil.shootr\n",
    "weather = soil.weath\n",
    "grid_public = soil.grid_public\n",
    "node_public = soil.nodal_public\n",
    "#ele_public = soil.elem_public\n",
    "#bound_public = soil.bound_public\n",
    "time_public = soil.time_public\n",
    "module_public = soil.module_public\n",
    "file_public = soil.datafilenames"
   ]
  },
  {
   "cell_type": "markdown",
   "metadata": {
    "deletable": true,
    "editable": true
   },
   "source": [
    "#### Controller Initiation"
   ]
  },
  {
   "cell_type": "markdown",
   "metadata": {
    "deletable": true,
    "editable": true
   },
   "source": [
    "Crop module initiaition is done only once when first ran."
   ]
  },
  {
   "cell_type": "code",
   "execution_count": 10,
   "metadata": {
    "collapsed": false,
    "deletable": true,
    "editable": true
   },
   "outputs": [
    {
     "data": {
      "text/plain": [
       "array(1, dtype=int32)"
      ]
     },
     "execution_count": 10,
     "metadata": {},
     "output_type": "execute_result"
    }
   ],
   "source": [
    "time_public.linput"
   ]
  },
  {
   "cell_type": "markdown",
   "metadata": {
    "deletable": true,
    "editable": true
   },
   "source": [
    "Parse the file names from the FORTRAN strings passed from 2dsoil."
   ]
  },
  {
   "cell_type": "code",
   "execution_count": 11,
   "metadata": {
    "collapsed": false,
    "deletable": true,
    "editable": true
   },
   "outputs": [],
   "source": [
    "varFile = file_public.varietyfile.tostring().strip()\n",
    "graphicFile = file_public.plantgraphics.tostring().strip()\n",
    "leafFile = file_public.leafgraphics.tostring().strip()"
   ]
  },
  {
   "cell_type": "markdown",
   "metadata": {
    "deletable": true,
    "editable": true
   },
   "source": [
    "Set up parameters from initials file whose reading is moved to soil model (Init.for)."
   ]
  },
  {
   "cell_type": "code",
   "execution_count": 12,
   "metadata": {
    "collapsed": false,
    "deletable": true,
    "editable": true
   },
   "outputs": [],
   "source": [
    "initInfo = crop.TInitInfo()"
   ]
  },
  {
   "cell_type": "code",
   "execution_count": 13,
   "metadata": {
    "collapsed": false,
    "deletable": true,
    "editable": true
   },
   "outputs": [],
   "source": [
    "initInfo.plantDensity = shootr.poparea.item()\n",
    "initInfo.latitude = weather.latude.item()\n",
    "initInfo.longitude = weather.longitude.item()\n",
    "initInfo.altitude = weather.altitude.item()\n",
    "initInfo.year = time_public.year.item()\n",
    "initInfo.sowingDay = time_public.sowingday.item()\n",
    "initInfo.beginDay = time_public.beginday.item()\n",
    "initInfo.endDay = time_public.endday.item()\n",
    "initInfo.timeStep = time_public.timestep.item()"
   ]
  },
  {
   "cell_type": "code",
   "execution_count": 14,
   "metadata": {
    "collapsed": false,
    "deletable": true,
    "editable": true
   },
   "outputs": [],
   "source": [
    "shootr.lcai = 0\n",
    "shootr.lareat = 0\n",
    "shootr.height = 0\n",
    "# change for debugging purposes\n",
    "shootr.convr = 1 # was 0.1 or 0.38 should be 1.0 as dry matter is used in all cases\n",
    "shootr.awups = 0 # initialize AWUPS, AWUPS_old and LeafWP in 2DSOIL\n",
    "shootr.leafwp = -0.5\n",
    "shootr.pcrs = 0\n",
    "shootr.et_demand = 0\n",
    "shootr.hourlycarboused = 0 # it is also zero'd upon initialization in 2dsoil"
   ]
  },
  {
   "cell_type": "code",
   "execution_count": 15,
   "metadata": {
    "collapsed": false,
    "deletable": true,
    "editable": true
   },
   "outputs": [],
   "source": [
    "# period should be in days, input in minutes\n",
    "period = time_public.timestep / 60. / 24."
   ]
  },
  {
   "cell_type": "code",
   "execution_count": 16,
   "metadata": {
    "collapsed": false,
    "deletable": true,
    "editable": true
   },
   "outputs": [],
   "source": [
    "popSlab = shootr.poprow / 100. * shootr.eomult"
   ]
  },
  {
   "cell_type": "markdown",
   "metadata": {
    "deletable": true,
    "editable": true
   },
   "source": [
    "These two lines show the relationships among some of the space variables."
   ]
  },
  {
   "cell_type": "code",
   "execution_count": 17,
   "metadata": {
    "collapsed": false,
    "deletable": true,
    "editable": true
   },
   "outputs": [],
   "source": [
    "#popSlab = shootr.poprow / 100. * shootr.rowsp * shootr.eomult\n",
    "#plantDensity = shootr.poprow * 100. / shootr.rowsp"
   ]
  },
  {
   "cell_type": "markdown",
   "metadata": {
    "deletable": true,
    "editable": true
   },
   "source": [
    "A new plant model object is created and initialized (calls initialize function)."
   ]
  },
  {
   "cell_type": "code",
   "execution_count": 18,
   "metadata": {
    "collapsed": false,
    "deletable": true,
    "editable": true
   },
   "outputs": [],
   "source": [
    "pSC = crop.CController(varFile, graphicFile, leafFile, initInfo)"
   ]
  },
  {
   "cell_type": "markdown",
   "metadata": {
    "deletable": true,
    "editable": true
   },
   "source": [
    "#### Common Objects"
   ]
  },
  {
   "cell_type": "code",
   "execution_count": 19,
   "metadata": {
    "collapsed": false,
    "deletable": true,
    "editable": true
   },
   "outputs": [],
   "source": [
    "plant = pSC.getPlant()\n",
    "develop = plant.get_develop()\n",
    "initInfo = pSC.getInitInfo()"
   ]
  },
  {
   "cell_type": "markdown",
   "metadata": {
    "deletable": true,
    "editable": true
   },
   "source": [
    "#### Reset uptakes"
   ]
  },
  {
   "cell_type": "markdown",
   "metadata": {
    "deletable": true,
    "editable": true
   },
   "source": [
    "Initialize nitrogen uptake with what is already in the plant."
   ]
  },
  {
   "cell_type": "code",
   "execution_count": 20,
   "metadata": {
    "collapsed": false,
    "deletable": true,
    "editable": true
   },
   "outputs": [],
   "source": [
    "# nitrogen uptake value from 2dsoil accumulated between time steps mg/plant\n",
    "#SK 8/20/10: This is curious but OK\n",
    "nitrogenUptake = plant.get_N() * popSlab"
   ]
  },
  {
   "cell_type": "code",
   "execution_count": 21,
   "metadata": {
    "collapsed": false,
    "deletable": true,
    "editable": true
   },
   "outputs": [],
   "source": [
    "# hourly water uptake from 2dsoil\n",
    "waterUptake = 0."
   ]
  },
  {
   "cell_type": "code",
   "execution_count": 22,
   "metadata": {
    "collapsed": false,
    "deletable": true,
    "editable": true
   },
   "outputs": [],
   "source": [
    "shootr.ndemanderror = 0\n",
    "shootr.cumulativendemanderror = 0"
   ]
  },
  {
   "cell_type": "code",
   "execution_count": 23,
   "metadata": {
    "collapsed": false,
    "deletable": true,
    "editable": true
   },
   "outputs": [],
   "source": [
    "time_public.runflag = 1"
   ]
  },
  {
   "cell_type": "code",
   "execution_count": 24,
   "metadata": {
    "collapsed": false,
    "deletable": true,
    "editable": true
   },
   "outputs": [],
   "source": [
    "module_public.nummod += 1"
   ]
  },
  {
   "cell_type": "code",
   "execution_count": 25,
   "metadata": {
    "collapsed": false,
    "deletable": true,
    "editable": true
   },
   "outputs": [],
   "source": [
    "# module number\n",
    "modNum = module_public.nummod"
   ]
  },
  {
   "cell_type": "code",
   "execution_count": 26,
   "metadata": {
    "collapsed": false,
    "deletable": true,
    "editable": true
   },
   "outputs": [],
   "source": [
    "time_public.tnext[modNum - 1] = pSC.getSowingDay()"
   ]
  },
  {
   "cell_type": "markdown",
   "metadata": {
    "deletable": true,
    "editable": true
   },
   "source": [
    "#### Some variables that need to be initialized (from Crop.h)"
   ]
  },
  {
   "cell_type": "code",
   "execution_count": 27,
   "metadata": {
    "collapsed": false,
    "deletable": true,
    "editable": true
   },
   "outputs": [],
   "source": [
    "cumulativeNUptakeError = 0."
   ]
  },
  {
   "cell_type": "code",
   "execution_count": 28,
   "metadata": {
    "collapsed": false,
    "deletable": true,
    "editable": true
   },
   "outputs": [],
   "source": [
    "SLNmin = 0.5"
   ]
  },
  {
   "cell_type": "code",
   "execution_count": 29,
   "metadata": {
    "collapsed": false,
    "deletable": true,
    "editable": true
   },
   "outputs": [],
   "source": [
    "predawnLWP = -0.05"
   ]
  },
  {
   "cell_type": "code",
   "execution_count": 30,
   "metadata": {
    "collapsed": false,
    "deletable": true,
    "editable": true
   },
   "outputs": [],
   "source": [
    "old_shoot_weightPerM2 = 0."
   ]
  },
  {
   "cell_type": "code",
   "execution_count": 31,
   "metadata": {
    "collapsed": false,
    "deletable": true,
    "editable": true
   },
   "outputs": [],
   "source": [
    "nitrogenUptakeOld = 0."
   ]
  },
  {
   "cell_type": "code",
   "execution_count": 32,
   "metadata": {
    "collapsed": false,
    "deletable": true,
    "editable": true
   },
   "outputs": [],
   "source": [
    "cumulativeNitrogenDemand = 0. # grams plant-1"
   ]
  },
  {
   "cell_type": "code",
   "execution_count": 32,
   "metadata": {
    "collapsed": false,
    "deletable": true,
    "editable": true
   },
   "outputs": [],
   "source": []
  },
  {
   "cell_type": "code",
   "execution_count": 33,
   "metadata": {
    "collapsed": false,
    "deletable": true,
    "editable": true
   },
   "outputs": [],
   "source": [
    "d = 0.075 # d: shape coefficient in the logistic function to simulate cumulative N uptake (Equation 9 in Lindquist et al. 2007)\n",
    "q_n = 0.032 # q_n: the maximum ratio of daily N uptake to measured daily growth rate (g N g-1) (Lindquist et al., 2007)\n",
    "a = 4.10 # maximum nitrogen concentration for C4 species: 4.1% (Lindquist et al. 2007)\n",
    "b = 0.5 # shape coefficient in calculation of nitrogen concentration in relation to up-ground biomass (equation 4 Lindquist et al, 2007) YY"
   ]
  },
  {
   "cell_type": "code",
   "execution_count": 33,
   "metadata": {
    "collapsed": false,
    "deletable": true,
    "editable": true
   },
   "outputs": [],
   "source": []
  },
  {
   "cell_type": "markdown",
   "metadata": {
    "deletable": true,
    "editable": true
   },
   "source": [
    "#### Running the crop module step by step"
   ]
  },
  {
   "cell_type": "code",
   "execution_count": 34,
   "metadata": {
    "collapsed": false,
    "deletable": true,
    "editable": true
   },
   "outputs": [],
   "source": [
    "if module_public.nshoot > 0:\n",
    "    waterUptake += shootr.awups * time_public.step\n",
    "    nitrogenUptake += shootr.sincrsink / 1.0e6"
   ]
  },
  {
   "cell_type": "markdown",
   "metadata": {
    "deletable": true,
    "editable": true
   },
   "source": [
    "Note that SIncrSink has been multiplied by time step in the solute uptake routing the 1000 scales from ug to mg."
   ]
  },
  {
   "cell_type": "code",
   "execution_count": 35,
   "metadata": {
    "collapsed": false,
    "deletable": true,
    "editable": true
   },
   "outputs": [
    {
     "data": {
      "text/plain": [
       "False"
      ]
     },
     "execution_count": 35,
     "metadata": {},
     "output_type": "execute_result"
    }
   ],
   "source": [
    "abs(time_public.time - time_public.tnext[modNum - 1]) < abs(0.001 * time_public.step)"
   ]
  },
  {
   "cell_type": "markdown",
   "metadata": {
    "deletable": true,
    "editable": true
   },
   "source": [
    "#### Only if the codition is met"
   ]
  },
  {
   "cell_type": "markdown",
   "metadata": {
    "deletable": true,
    "editable": true
   },
   "source": [
    "If the sowing date has come and there is not plant, let the program know so other calculations are not done."
   ]
  },
  {
   "cell_type": "code",
   "execution_count": 36,
   "metadata": {
    "collapsed": false,
    "deletable": true,
    "editable": true
   },
   "outputs": [],
   "source": [
    "if module_public.nshoot == 0 and abs(time_public.time - pSC.getSowingDay()) < 0.001:\n",
    "    module_public.nshoot = 1"
   ]
  },
  {
   "cell_type": "markdown",
   "metadata": {
    "deletable": true,
    "editable": true
   },
   "source": [
    "Calculate error for demand and actual uptake, if negative, demand is greater then uptake."
   ]
  },
  {
   "cell_type": "code",
   "execution_count": 37,
   "metadata": {
    "collapsed": false,
    "deletable": true,
    "editable": true
   },
   "outputs": [],
   "source": [
    "currentNUptakeError = nitrogenUptake / popSlab - plant.get_CumulativeNitrogenDemand()"
   ]
  },
  {
   "cell_type": "code",
   "execution_count": 38,
   "metadata": {
    "collapsed": false,
    "deletable": true,
    "editable": true
   },
   "outputs": [],
   "source": [
    "cumulativeNUptakeError += currentNUptakeError"
   ]
  },
  {
   "cell_type": "markdown",
   "metadata": {
    "deletable": true,
    "editable": true
   },
   "source": [
    "#### TWeather"
   ]
  },
  {
   "cell_type": "code",
   "execution_count": 39,
   "metadata": {
    "collapsed": false,
    "deletable": true,
    "editable": true
   },
   "outputs": [],
   "source": [
    "wthr = crop.TWeather()"
   ]
  },
  {
   "cell_type": "code",
   "execution_count": 40,
   "metadata": {
    "collapsed": false,
    "deletable": true,
    "editable": true
   },
   "outputs": [],
   "source": [
    "i = time_public.itime - 1\n",
    "wthr.HourlyOutput = time_public.hourlyoutput.item()\n",
    "wthr.DailyOutput = time_public.dailyoutput.item()\n",
    "wthr.jday = weather.jday.item()\n",
    "wthr.time = time_public.time - wthr.jday\n",
    "wthr.CO2 = weather.co2.item()\n",
    "wthr.airT = weather.tair[i].item()\n",
    "wthr.PFD = weather.par[i] * 4.6 # conversion from PAR in Wm-2 to umol s-1 m-2\n",
    "wthr.solRad = weather.wattsm[i].item() # conversion from Wm-2 to J m-2 in one hour Total Radiation incident at soil surface\n",
    "Es = 0.611 * np.exp(17.502 * wthr.airT / (240.97 + wthr.airT)) # saturated vapor pressure at airT\n",
    "wthr.RH = (1 - weather.vpd[i] / Es) * 100.\n",
    "wthr.rain = weather.rint[i].item()\n",
    "wthr.wind = weather.wind * (1000. / 3600.) # conversion from km hr-1 to m s-1\n",
    "wthr.dayLength = weather.daylng.item()\n",
    "# since LeafWP in 2dsoil is in bar but in maizesim is in MPa, so, have to divide it by 10 to convert it into MPa before passing the value to Maizesim 1 bar=10kPa\n",
    "wthr.LeafWP = shootr.psil_ / 10. # and leaf water potential information into MAIZESIM Yang 8/15/06\n",
    "wthr.pcrl = shootr.pcrl / popSlab / 24.\n",
    "wthr.pcrq = shootr.pcrq / popSlab / 24."
   ]
  },
  {
   "cell_type": "markdown",
   "metadata": {
    "deletable": true,
    "editable": true
   },
   "source": [
    "If time is 5 am, then pass the leaf water potential (the predawn leaf water potential) from SHOOTR to the wthr object. YY"
   ]
  },
  {
   "cell_type": "code",
   "execution_count": 41,
   "metadata": {
    "collapsed": false,
    "deletable": true,
    "editable": true
   },
   "outputs": [],
   "source": [
    "if abs(wthr.time - 0.2083) < 0.0001:\n",
    "    # Here LeafWP is in bar.\n",
    "    # Since the LWPeffect in leaf.cpp uses leaf water potential in bar,\n",
    "    # so here PredawnLWP is in bar, instead of being scaled to MPa. YY\n",
    "    predawnLWP = shootr.psil_.item() # SHOOTR->LeafWP"
   ]
  },
  {
   "cell_type": "markdown",
   "metadata": {
    "deletable": true,
    "editable": true
   },
   "source": [
    "Pass actual carbohydrate amount used in 2dsoil back to the plant."
   ]
  },
  {
   "cell_type": "code",
   "execution_count": 42,
   "metadata": {
    "collapsed": false,
    "deletable": true,
    "editable": true
   },
   "outputs": [],
   "source": [
    "#ToDo - make pcrs a new variable (ActualRootCarboUsed) and make it a member of plant.\n",
    "#dt here I changed this temporarily for debugging\n",
    "# don't need to divide by 24 since the value has been integrated over an hour\n",
    "wthr.pcrs = shootr.hourlycarboused / popSlab # original\n",
    "shootr.hourlycarboused = 0.\n",
    "# dividing it by PopSlab converts it to g/day/plant\n",
    "#ToDo: need to document this better, what is pcrs being used for."
   ]
  },
  {
   "cell_type": "markdown",
   "metadata": {
    "deletable": true,
    "editable": true
   },
   "source": [
    "SHOOTR->PCRS in 2dsoil is the actual rate of carbon supplied to roots in a soil slab, it is in g/day.\n",
    " - dividing it by (SHOOTR->Rowsp*1)/10000 converts it to g/day/m^2\n",
    " - further dividing it by weather->daylng converts it to g/hour/m^2\n",
    " - then dividing it by plant density, converts it to g/hour/plant, which is the unit of the wthr.pcrs in maizesim. Yang. 10/27/06"
   ]
  },
  {
   "cell_type": "markdown",
   "metadata": {
    "deletable": true,
    "editable": true
   },
   "source": [
    "Pass through nitrogen uptake (total mg per slab in the one hour) from 2DSOIL."
   ]
  },
  {
   "cell_type": "code",
   "execution_count": 43,
   "metadata": {
    "collapsed": false,
    "deletable": true,
    "editable": true
   },
   "outputs": [],
   "source": [
    "wthr.TotalRootWeight = shootr.totalrootweight / popSlab\n",
    "wthr.MaxRootDepth = shootr.maxrootdepth.item()\n",
    "# Available water is cm per profile - should be divided by PopSlab\n",
    "wthr.ThetaAvail = node_public.thetaavail / popSlab"
   ]
  },
  {
   "cell_type": "code",
   "execution_count": 44,
   "metadata": {
    "collapsed": false,
    "deletable": true,
    "editable": true
   },
   "outputs": [],
   "source": [
    "if nitrogenUptake > 0:\n",
    "    nuptake = nitrogenUptake / popSlab\n",
    "    leafloss = plant.get_droppedLfArea()\n",
    "    nloss = leafloss * SLNmin\n",
    "    # SLNmin: base Specific leaf nitrogen content; for now assume it's 0.5 YY\n",
    "    \n",
    "    #SK 8/20/10: Here seems to be the only place where totalN of the plant is set.\n",
    "    # NitrogenUptake is initiated from get_N at the begining of the timestep so OK. \n",
    "    plant.set_N(nuptake)\n",
    "    # Units are converted from g slab-1 to g plant -1 YY\n",
    "    # need to look at loss of N in the dropped leaf (plant N goes negative?)\t\t\t\t                                                         \n",
    "    #pSC.getPlant().set_N(nuptake - nloss)"
   ]
  },
  {
   "cell_type": "code",
   "execution_count": 45,
   "metadata": {
    "collapsed": false,
    "deletable": true,
    "editable": true
   },
   "outputs": [],
   "source": [
    "if shootr.lai == 0:\n",
    "    wthr.ET_supply = 0.\n",
    "else:\n",
    "    # Note water uptake has been summed over the past hour so it is an hourly amount\n",
    "    # into MAIZESIM Yang 8/15/06, dt 4/24/2011\n",
    "    wthr.ET_supply = waterUptake / (shootr.eomult * shootr.poprow) * 100.\n",
    "    #dt 4-24-2011 I replaced SHOOTR->AWUPS with WaterUptake. AWUPS is an instantaneous value.\n",
    "    \n",
    "    # for debugging\n",
    "    ET_diff = wthr.ET_supply * 24 - shootr.et_demand"
   ]
  },
  {
   "cell_type": "markdown",
   "metadata": {
    "deletable": true,
    "editable": true
   },
   "source": [
    "ET_Supply is the actual amount of water that can be taken from the soil slab ( derived from AWUPS, g day-1 slab-1). To compare this variable with the et rate in maizesim it has to be converted into grams water per plant. To do this multiply by EOMULT to double slab width if plant is at the edge. Then multiply by 100/PopRow to get area inhabited by the plant. This provides a per plant estimate from area."
   ]
  },
  {
   "cell_type": "markdown",
   "metadata": {
    "deletable": true,
    "editable": true
   },
   "source": [
    "First find top of grid."
   ]
  },
  {
   "cell_type": "code",
   "execution_count": 46,
   "metadata": {
    "collapsed": false,
    "deletable": true,
    "editable": true
   },
   "outputs": [],
   "source": [
    "y = grid_public.y[:grid_public.numnp]\n",
    "maxY = y.max()\n",
    "lowerBoundary = maxY - 5."
   ]
  },
  {
   "cell_type": "markdown",
   "metadata": {
    "deletable": true,
    "editable": true
   },
   "source": [
    "Now find average temperature in layer between surface and lower boundary."
   ]
  },
  {
   "cell_type": "code",
   "execution_count": 47,
   "metadata": {
    "collapsed": false,
    "deletable": true,
    "editable": true
   },
   "outputs": [],
   "source": [
    "ylb = (y >= lowerBoundary)\n",
    "soilT = node_public.tmpr[ylb].sum()\n",
    "count = ylb.sum()"
   ]
  },
  {
   "cell_type": "code",
   "execution_count": 48,
   "metadata": {
    "collapsed": false,
    "deletable": true,
    "editable": true
   },
   "outputs": [],
   "source": [
    "wthr.soilT = soilT / (count*1.)"
   ]
  },
  {
   "cell_type": "markdown",
   "metadata": {
    "deletable": true,
    "editable": true
   },
   "source": [
    "The model code to simulate growth ect begins here when the plant object is called."
   ]
  },
  {
   "cell_type": "code",
   "execution_count": 49,
   "metadata": {
    "collapsed": false,
    "deletable": true,
    "editable": true
   },
   "outputs": [],
   "source": [
    "#TODO add some error catching code here\n",
    "ier = pSC.getErrStatus()\n",
    "if ier == 0:\n",
    "    ier = pSC.run(wthr, predawnLWP)\n",
    "    # Pass both weather and leaf water potential into the \"run\" function\n",
    "    # of the controller pSC YY\n",
    "    # need to get rid of other run module (with only wthr) done?\n",
    "    # need to add PredawnLWP to wthr structure"
   ]
  },
  {
   "cell_type": "markdown",
   "metadata": {
    "deletable": true,
    "editable": true
   },
   "source": [
    "Assumes that germination takes place about halfway through the sowing date."
   ]
  },
  {
   "cell_type": "code",
   "execution_count": 50,
   "metadata": {
    "collapsed": false,
    "deletable": true,
    "editable": true
   },
   "outputs": [],
   "source": [
    "if 0.49 <= wthr.time <= 0.51:\n",
    "    if not develop.Germinated():\n",
    "        print wthr.jday"
   ]
  },
  {
   "cell_type": "markdown",
   "metadata": {
    "deletable": true,
    "editable": true
   },
   "source": [
    "ActualCarboIncrement is calculated from \"assimilate\", which in turn is calculated from photosynthsis_net in plant; the unit of assimilate then is in g/plant/hour, thus, at this point, pcrl has unit g/plant/hour. Multiply by 24 to get g plant-1 day-1; multiply by popslab to get g Carbo slab-1 day-1."
   ]
  },
  {
   "cell_type": "code",
   "execution_count": 51,
   "metadata": {
    "collapsed": false,
    "deletable": true,
    "editable": true
   },
   "outputs": [],
   "source": [
    "if develop.Emerged():\n",
    "# pass appropriate data to 2DSOIL file structures    \n",
    "    #dt 03/14/2011- I added a pool of carbo to hold leftover carbon from root growth, here it is implemented - see also plant\n",
    "    # This holds any carbon not used for root growth in the previous time step\n",
    "    pool = plant.get_C_pool_root()\n",
    "    root = plant.get_rootPart()\n",
    "    shoot = plant.get_shootPart()\n",
    "    \n",
    "    # this assures the pool is only used at night\n",
    "    # minimizes complexity when pcrq has a value\n",
    "    # since we have to add leftover carbo from pcrq to the shoot\n",
    "    if pool > 0 and root < 0.00001:\n",
    "        shootr.pcrl = (root + pool) * 24*popSlab\n",
    "        plant.set_C_pool_root(0.)\n",
    "    else:\n",
    "        shootr.pcrl = root * 24*popSlab\n",
    "    \n",
    "    if develop.GrainFillBegan():\n",
    "        shootr.pcrq = (root + 0.75*shoot) * 24*popSlab\n",
    "    else:\n",
    "        shootr.pcrq = (root + shoot) * 24*popSlab\n",
    "    \n",
    "    #DT 09/19/14 under strong water stress mid season too much carbon is allocated to the roots,\n",
    "    #we try to limit it here.\n",
    "    #SHOOTR->PCRQ=SHOOTR->PCRL; //for debugging now remove later\n",
    "    #dt 03/2011 added these two for debugging now\n",
    "    #need to calculate mass balcance of carbo sent to root\n",
    "    #can drop them later\n",
    "    wthr.pcrl = shootr.pcrl / popSlab/24.\n",
    "    wthr.pcrq = shootr.pcrq / popSlab/24.\n",
    "    \n",
    "    shootr.lcai = plant.calcGreenLeafArea() * initInfo.plantDensity\n",
    "    shootr.cover = 1 - np.exp(-0.79*shootr.lcai)\n",
    "    shootr.shade = shootr.cover * shootr.rowsp\n",
    "    shootr.height = min(shootr.shade, shootr.rowsp)\n",
    "    shootr.et_demand = plant.get_ET() * 24 # pass ET demand from shoot to root. Yang\n",
    "    # In GasExchange, the unit of ET is mmol m-2(leaf) sec-1\n",
    "    # need to convert to grams plant-1\n",
    "    # Here, multiplying ET by 0.018 and 3600*24 converts it to g m-2(ground) day-1\n",
    "    # dividing it by plantdensity converts it to g plant-1 day-1\n",
    "    shootr.lai = shootr.lcai\n",
    "    shoot_weightPerM2 = plant.get_shootMass() * initInfo.plantDensity # Calculate total shoot mass per meter aquared YY\n",
    "    massIncrease = shoot_weightPerM2 - old_shoot_weightPerM2 # Calculated increase in above-ground biomass per m2 YY\n",
    "    \n",
    "    # The biomass  returned by getPlant()->get_shootMass() is the weight of each single plant (g/plant),\n",
    "    # to convert it into (g/m-2), it has to be \n",
    "    # multiplied by pSC->getIniInfo().plantDensity\n",
    "    \n",
    "    # Perhaps it's good idea to merge all plant N business into plant.cpp where C allocation is taken care of.\n",
    "    # For now I'm not modifying any codes here. TODO - dt 03/15/2011 Much of this nitrogen stuff can be cleaned up as some of\n",
    "    # Yang's original code is no longer used (i.e., U_N etc).\n",
    "    \n",
    "    nitrogenRatio = a / 100.\n",
    "    if shoot_weightPerM2 >= 100:\n",
    "        # Calcualte above ground potential N concentration\n",
    "        #nitrogenRatio *= np.sqrt(shoot_weightPerM2)\n",
    "        nitrogenRatio *= pow(shoot_weightPerM2, 1 - b)\n",
    "    plant.set_NitrogenRatio(nitrogenRatio / 10.)\n",
    "    \n",
    "    # U_N maximum observed N uptake rate (g N m-2 ground d-1) (Lindquist et al, 2007) YY\n",
    "    # The unit of U_N is g N m-2 ground d-1\n",
    "    #d = 0.075 # d: shape coefficient in the logistic function to simulate cumulative N uptake (Equation 9 in Lindquist et al. 2007)\n",
    "    U_N = 0.359 * d / 4.\n",
    "    \n",
    "    # U_M maximum uptake rate as limited by maximum N fraction per unit (Equation 2 in Lindquist et al., 2007)\n",
    "    # unit of U_M is also g N m-2 ground d-1; however, the unit of massIncrease is g m-2/step (here one hour). \n",
    "    # Here in the simulation, the default length of one step is an hour; so, we have to scale it up to one\n",
    "    # day by multiplying it by 24\n",
    "    #q_n = 0.032 # q_n: the maximum ratio of daily N uptake to measured daily growth rate (g N g-1) (Lindquist et al., 2007)\n",
    "    U_M = q_n * massIncrease * 24\n",
    "\n",
    "    # unit of U_P is also g N m-2 ground d-1; however, the unit of massIncrease is g/step. Here\n",
    "    # in the simulation, the default length of one step is an hour; so, we have to scale it up to one\n",
    "    # day by multiplying it by 24\n",
    "    \n",
    "    # U_P potential rate of N accumulation (g N m-2 ground d-1) (Lindquist et al. 2007)\n",
    "    # if shoot weight<100 (g m-2) then U_P is calculated this way\n",
    "    U_P = (a / 100.) * massIncrease * 24\n",
    "    # otherwise, it is calculated like this (Equation 6, Lindquist et al., 2007) YY\n",
    "    if shoot_weightPerM2 >= 100:\n",
    "        U_P *= 10 * (1 - b) * pow(shoot_weightPerM2, -b)\n",
    "\n",
    "    # U_D U uptake rate (g N m-2 d-1) as limited by the difference between potential and actual amount of N \n",
    "    # in existing biomass, equation 3 in Lindquist et al. 2007)\n",
    "    # the returned value from get_N() is in g N/plant. It has to be converted to g/m-2 ground\n",
    "    # that's why the actual n content is mulitpled by pSC->getIniInfo().plantDensity/(100*100) YY\n",
    "    U_D = a * 10 / 100. * pow(shoot_weightPerM2, -b) - plant.get_N() * initInfo.plantDensity\n",
    "    \n",
    "    # set up account of N here\n",
    "    # first hourly\n",
    "    # Actual and needed N uptake in the last hour per plant per day\n",
    "    \n",
    "    # houly rate per day\n",
    "    hourlyActualNFromSoil = (nitrogenUptake - nitrogenUptakeOld) / popSlab\n",
    "    plant.set_HourlyNitrogenSoilUptake(hourlyActualNFromSoil)\n",
    "    \n",
    "    # Determine the nitrogen demand (equation 1 Lindquist et al. 2007) in grams plant-1\n",
    "    hourlyNitrogenDemand = max(U_P, 0) / initInfo.plantDensity / 24.\n",
    "    plant.set_HourlyNitrogenDemand(hourlyNitrogenDemand)\n",
    "    \n",
    "    # now do cumulative amounts\n",
    "    cumulativeNitrogenDemand += hourlyNitrogenDemand # grams plant-1 day-1\n",
    "    plant.set_CumulativeNitrogenDemand(cumulativeNitrogenDemand)\n",
    "    plant.set_CumulativeNitrogenSoilUptake(nitrogenUptake / popSlab)\n",
    "    \n",
    "    # Pass the nitrogen demand into 2dsoil YY\n",
    "    # Units are ug slab-1\n",
    "    #oldNDemand = shootr.nitrodemand / popSlab / 1e6 / 24.\n",
    "    shootr.nitrodemand = hourlyNitrogenDemand * popSlab * 1e6 * 24\n",
    "    \n",
    "    # Save the value of the above_ground biomass of this time-step\n",
    "    old_shoot_weightPerM2 = shoot_weightPerM2\n",
    "    \n",
    "    # save the cumulative N uptake from this time step\n",
    "    nitrogenUptakeOld = nitrogenUptake\n",
    "    \n",
    "    shootr.ndemanderror = currentNUptakeError\n",
    "    shootr.cumulativendemanderror = cumulativeNUptakeError"
   ]
  },
  {
   "cell_type": "code",
   "execution_count": 52,
   "metadata": {
    "collapsed": false,
    "deletable": true,
    "editable": true
   },
   "outputs": [],
   "source": [
    "if develop.Dead():\n",
    "#if pSC.getLastDayOfSim() <= pSC.getTime().get_day_of_year():\n",
    "    print \"Completing crop simulation...\"\n",
    "    \n",
    "    # tell 2dsoil that crops harvested\n",
    "    module_public.nshoot = 0\n",
    "    \n",
    "    # set the next time so the model\n",
    "    time_public.tnext[modNum - 1] = 1e12\n",
    "    \n",
    "    # if matured points to nothing\n",
    "    pSC = None\n",
    "    \n",
    "    time_public.runflag = 0\n",
    "else:\n",
    "    time_public.tnext[modNum - 1] = time_public.time + period\n",
    "    waterUptake = 0.\n",
    "    #nitrogenUptake = 0."
   ]
  },
  {
   "cell_type": "markdown",
   "metadata": {
    "deletable": true,
    "editable": true
   },
   "source": [
    "### 2DMAIZSIM.for (back)"
   ]
  },
  {
   "cell_type": "code",
   "execution_count": 53,
   "metadata": {
    "collapsed": false,
    "deletable": true,
    "editable": true
   },
   "outputs": [],
   "source": [
    "soil.carbon_partitioning()\n",
    "soil.rootgrow()\n",
    "soil.wateruptake()\n",
    "soil.soluteuptake()\n",
    "soil.gasuptake()"
   ]
  },
  {
   "cell_type": "code",
   "execution_count": 54,
   "metadata": {
    "collapsed": false,
    "deletable": true,
    "editable": true
   },
   "outputs": [],
   "source": [
    "soil.watermover()\n",
    "soil.solutemover()\n",
    "soil.heatmover()\n",
    "soil.gasmover()\n",
    "soil.soilnitrogen()\n",
    "soil.macrochem()\n",
    "#soil.massbl()"
   ]
  },
  {
   "cell_type": "code",
   "execution_count": 55,
   "metadata": {
    "collapsed": false,
    "deletable": true,
    "editable": true
   },
   "outputs": [],
   "source": [
    "if time_public.outputsoilyes > 0:\n",
    "    soil.output()"
   ]
  },
  {
   "cell_type": "code",
   "execution_count": 56,
   "metadata": {
    "collapsed": false,
    "deletable": true,
    "editable": true
   },
   "outputs": [],
   "source": [
    "#GOTO 1"
   ]
  }
 ],
 "metadata": {
  "kernelspec": {
   "display_name": "Python 3",
   "language": "python",
   "name": "python3"
  },
  "language_info": {
   "codemirror_mode": {
    "name": "ipython",
    "version": 3
   },
   "file_extension": ".py",
   "mimetype": "text/x-python",
   "name": "python",
   "nbconvert_exporter": "python",
   "pygments_lexer": "ipython3",
   "version": "3.6.0"
  }
 },
 "nbformat": 4,
 "nbformat_minor": 0
}
